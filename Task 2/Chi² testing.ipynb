{
 "cells": [
  {
   "attachments": {},
   "cell_type": "markdown",
   "metadata": {},
   "source": [
    "# Task 2 -- Chi² testing\n",
    "\n",
    "\n",
    "\n",
    "### Initial Test\n",
    "In the initial test we see that the p-value is 0.0004. From this we can reject the null hypothesis and accept that at least one of our samples is not independent due to the p-value being less than 0.05.\n",
    "\n",
    "### A & B\n",
    "When having just A & B together we receieve a p-value of 0.002. This means that the null hypothesis is  rejected and A & B are not independent of eachother.\n",
    "\n",
    "### A & C and B & C\n",
    "When having just A & C together we receieve a p-value of 0.307. This means that the null hypothesis is not  rejected and A & B are independent of eachother.\n",
    "\n",
    "This is the same when using B & C. The p-value is 0.0792 meaning the null hypothesis is not  rejected and B & C are independent of eachother.\n",
    "\n",
    "### C & D\n",
    "When having just C & D together we receieve a p-value of 0.0164. This means that the null hypothesis is  rejected and C & D are not independent of eachother.\n",
    "\n",
    "### (A+B) & (C+D)\n",
    "For my final test I added A + B and C + D. My p-value was 0.118  meaning the null hypothesis is not rejected and that A & B are not independent of each other ,similarly for C & D.\n",
    "\n",
    "The new sample of (A+B) is independent of our other new sample (C+D) which confirmed the hypothesis above that A and B are of the same population but different to C and D. And vice versa\n",
    "\n",
    "### Conculsion\n",
    "From the above we can reasonably conclude that A & B are sampled from the same population, similarly for C & D.\n"
   ]
  },
  {
   "cell_type": "code",
   "execution_count": 62,
   "metadata": {},
   "outputs": [
    {
     "name": "stdout",
     "output_type": "stream",
     "text": [
      "24.6\n",
      "0.0004098425861096696\n"
     ]
    }
   ],
   "source": [
    "#Initial Test\n",
    "\n",
    "from scipy.stats import chi2_contingency\n",
    "\n",
    "obs = np.array([[90,60,104,95],\n",
    "                [30,50,51,20 ],\n",
    "                [30,40,45,35 ]])\n",
    "\n",
    "g, p, degreeOfFreedom, expected  = chi2_contingency(obs)\n",
    "\n",
    "# The null hypothesis is that all of the events are independent.\n",
    "# Thus the alternate hypothesis is that at least 1 is not independent.\n",
    "\n",
    "# We recieve a p-value of less than 0.05.\n",
    "# Thus we can conclude that there is enough evidence to reject the null hypothesis \n",
    "# and assume that at least 1 of the events is not independent from the others.\n",
    "\n",
    "print(\"{:.1f}\".format(g)) \n",
    "print(p) \n",
    "#lower the p , the higher the confidence"
   ]
  },
  {
   "cell_type": "code",
   "execution_count": 63,
   "metadata": {},
   "outputs": [
    {
     "name": "stdout",
     "output_type": "stream",
     "text": [
      "12.4\n",
      "0.002000644872215657\n"
     ]
    }
   ],
   "source": [
    "# A & B\n",
    "\n",
    "from scipy.stats import chi2_contingency\n",
    "\n",
    "obs = np.array([[90,60],\n",
    "                [30,50],\n",
    "                [30,40]])\n",
    "\n",
    "g, p, degreeOfFreedom, expected  = chi2_contingency(obs)\n",
    "\n",
    "#NOT INDEPENDENT - rejects a&b\n",
    "\n",
    "print(\"{:.1f}\".format(g))\n",
    "print(p) "
   ]
  },
  {
   "cell_type": "code",
   "execution_count": 64,
   "metadata": {},
   "outputs": [
    {
     "name": "stdout",
     "output_type": "stream",
     "text": [
      "2.4\n",
      "0.3072693526050842\n"
     ]
    }
   ],
   "source": [
    "# A & C\n",
    "\n",
    "from scipy.stats import chi2_contingency\n",
    "\n",
    "obs = np.array([[90,104],\n",
    "                [30,51 ],\n",
    "                [30,45 ]])\n",
    "\n",
    "g, p, degreeOfFreedom, expected  = chi2_contingency(obs)\n",
    "\n",
    "# No evidence to reject null hypo , so we must accept \n",
    "#A & C are independent of eachother.\n",
    "\n",
    "print(\"{:.1f}\".format(g))\n",
    "print(p)"
   ]
  },
  {
   "cell_type": "code",
   "execution_count": 56,
   "metadata": {},
   "outputs": [
    {
     "name": "stdout",
     "output_type": "stream",
     "text": [
      "5.1\n",
      "0.0792815886956327\n"
     ]
    }
   ],
   "source": [
    "# B & C\n",
    "\n",
    "from scipy.stats import chi2_contingency\n",
    "\n",
    "obs = np.array([[60,104],\n",
    "                [50,51 ],\n",
    "                [40,45]])\n",
    "\n",
    "#Although a small p value as it is not less than 0.05 \n",
    "#We still dont have enough evidence to reject\n",
    "\n",
    "#No evidence to reject null hypothesis , so we must accept. \n",
    "#B & C are independent of eachother.\n",
    "\n",
    "g, p, degreeOfFreedom, expected  = chi2_contingency(obs)\n",
    "\n",
    "\n",
    "print(\"{:.1f}\".format(g))\n",
    "print(p)"
   ]
  },
  {
   "cell_type": "code",
   "execution_count": 57,
   "metadata": {},
   "outputs": [
    {
     "name": "stdout",
     "output_type": "stream",
     "text": [
      "8.2\n",
      "0.016431707024441123\n"
     ]
    }
   ],
   "source": [
    "# C & D\n",
    "\n",
    "from scipy.stats import chi2_contingency\n",
    "\n",
    "obs = np.array([[104,95],\n",
    "                [51 ,20],\n",
    "                [45 ,35]])\n",
    "\n",
    "g, p, degreeOfFreedom, expected  = chi2_contingency(obs)\n",
    "\n",
    "#C & D - p value less that 0.05 , enough evidence to reject null hypothesis.\n",
    "#We can assume C & D are not independent.\n",
    "\n",
    "print(\"{:.1f}\".format(g))\n",
    "print(p)"
   ]
  },
  {
   "cell_type": "code",
   "execution_count": 59,
   "metadata": {},
   "outputs": [
    {
     "name": "stdout",
     "output_type": "stream",
     "text": [
      "4.3\n",
      "0.11872975696950533\n"
     ]
    }
   ],
   "source": [
    "# (A & B),(C & D)\n",
    "\n",
    "from scipy.stats import chi2_contingency\n",
    "\n",
    "obs = np.array([[90 + 60,104+95],\n",
    "                [30 + 50,51+20 ],\n",
    "                [30 + 40,45+35 ]])\n",
    "\n",
    "g, p, degreeOfFreedom, expected  = chi2_contingency(obs)\n",
    "\n",
    "#From our experimentation we have justification via p-values to conclude that a & b\n",
    "#were sampled from the same population and that c & d were sampled from the sample population. \n",
    "#However the populations that a&b and c & d were pulled from are independednt of eachother,\n",
    "#hence once we combine a & b and combine c & d we now have 2 independent samples\n",
    "#as is proven by the chi2 test ran on the 2 samples\n",
    "\n",
    "print(\"{:.1f}\".format(g)) \n",
    "print(p) "
   ]
  }
 ],
 "metadata": {
  "kernelspec": {
   "display_name": "Python 3",
   "language": "python",
   "name": "python3"
  },
  "language_info": {
   "codemirror_mode": {
    "name": "ipython",
    "version": 3
   },
   "file_extension": ".py",
   "mimetype": "text/x-python",
   "name": "python",
   "nbconvert_exporter": "python",
   "pygments_lexer": "ipython3",
   "version": "3.8.3"
  }
 },
 "nbformat": 4,
 "nbformat_minor": 4
}
