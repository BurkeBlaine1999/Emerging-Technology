{
 "cells": [
  {
   "cell_type": "markdown",
   "metadata": {},
   "source": [
    "# Task 3 -- \n",
    "\n",
    "\n",
    "\n",
    "\n",
    "\n",
    "STDEV. S assumes that its arguments are a sample of the population. \n",
    "If your data represents the entire population, then you would compute the standard deviation using STDEV. P.\n",
    "\n",
    "The calculation for the standard deviation of the population is \n",
    "**np.sqrt(np.sum((x - np.mean(x))**2)/len(x)) .\n",
    "\n",
    "The calculation for the standard deviation of a sample is \n",
    "**np.sqrt(np.sum((x - np.mean(x))**2)/(len(x)-1)) .\n",
    "\n",
    "They are simlar but the sample removes -1 from the length of x.\n",
    "\n",
    "This is as it is using Bessels Correction which uses n-1 instead of n.\n",
    "This method corrects the bias in the estimation of the population variance and partially corrects the bias in the estimation of the populations standard deviation.\n",
    "However, the correction often increases the mean squared error in these estimations.\n",
    "\n",
    "Using n-1 also allows for a larger standard deviation which accounts for not analysing the entire population.\n",
    "\n",
    "It accounts for fact that we dont know the populations true standard deviation.\n",
    "Therefore dividing by the total number of samples would give us the standard deviation of the sample.\n",
    "\n",
    "However, we have no way of knowing if this standard deviation is the standard deviation of the population therefore dividing by n-1 allows for a larger estimate of the population which lets us correct the bias of the original calculation.\n",
    "\n",
    "### References \n",
    "\n",
    "Bessel's correction\n",
    "https://en.wikipedia.org/wiki/Bessel%27s_correction\n",
    "\n",
    "\n",
    "\n"
   ]
  },
  {
   "cell_type": "code",
   "execution_count": 32,
   "metadata": {},
   "outputs": [
    {
     "name": "stdout",
     "output_type": "stream",
     "text": [
      "2.8722813232690143\n"
     ]
    },
    {
     "data": {
      "text/plain": [
       "8.65544144839919"
      ]
     },
     "execution_count": 32,
     "metadata": {},
     "output_type": "execute_result"
    }
   ],
   "source": [
    "import numpy as np\n",
    "\n",
    "#STDDEV.P\n",
    "\n",
    "\n",
    "x = [1,2,3,4,5,6,7,8,9,10]\n",
    "\n",
    "print(np.sqrt(np.sum((x - np.mean(x))**2)/len(x)))\n",
    "\n",
    "x = [1,2,3,4,5,6,7,8,9,10,11,12,13,14,15,16,17,18,19,20,21,22,23,24,25,26,27,28,29,30]\n",
    "\n",
    "np.sqrt(np.sum((x - np.mean(x))**2)/len(x))"
   ]
  },
  {
   "cell_type": "code",
   "execution_count": 29,
   "metadata": {},
   "outputs": [
    {
     "name": "stdout",
     "output_type": "stream",
     "text": [
      "3.0276503540974917\n"
     ]
    },
    {
     "data": {
      "text/plain": [
       "8.597480251019288"
      ]
     },
     "execution_count": 29,
     "metadata": {},
     "output_type": "execute_result"
    }
   ],
   "source": [
    "import numpy as np\n",
    "\n",
    "#STDDEV.S\n",
    "\n",
    "x = [1,2,3,4,5,6,7,8,9,10]\n",
    "\n",
    "print(np.sqrt(np.sum((x - np.mean(x))**2)/(len(x)-1)))\n",
    "\n",
    "x = [1,2,3,4,5,6,7,8,9,10,11,12,13,14,15,16,17,18,19,20,21,22,23,24,25,26,27,28,29,30]\n",
    "\n",
    "np.sqrt(np.sum((x - np.mean(x))**2)/len(x)-1)"
   ]
  },
  {
   "cell_type": "code",
   "execution_count": null,
   "metadata": {},
   "outputs": [],
   "source": []
  }
 ],
 "metadata": {
  "kernelspec": {
   "display_name": "Python 3",
   "language": "python",
   "name": "python3"
  },
  "language_info": {
   "codemirror_mode": {
    "name": "ipython",
    "version": 3
   },
   "file_extension": ".py",
   "mimetype": "text/x-python",
   "name": "python",
   "nbconvert_exporter": "python",
   "pygments_lexer": "ipython3",
   "version": "3.8.3"
  }
 },
 "nbformat": 4,
 "nbformat_minor": 4
}
