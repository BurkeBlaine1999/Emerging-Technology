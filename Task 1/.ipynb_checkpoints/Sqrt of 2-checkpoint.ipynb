{
 "cells": [
  {
   "cell_type": "code",
   "execution_count": 7,
   "metadata": {},
   "outputs": [],
   "source": [
    "from decimal import *"
   ]
  },
  {
   "cell_type": "code",
   "execution_count": 8,
   "metadata": {},
   "outputs": [
    {
     "name": "stdout",
     "output_type": "stream",
     "text": [
      "Context(prec=100, rounding=ROUND_HALF_EVEN, Emin=-999999, Emax=999999, capitals=1, clamp=0, flags=[], traps=[InvalidOperation, DivisionByZero, Overflow])\n"
     ]
    }
   ],
   "source": [
    "getcontext().prec = 100\n",
    "print(getcontext())\n",
    "\n",
    "x = Decimal(2.0)\n",
    "y0 = Decimal(1.0)\n",
    "last_y = Decimal(0)\n",
    "\n",
    "run = True\n",
    "while run:\n",
    "    last_y = y0\n",
    "    y1 = Decimal(0.5) * (y0 + x/y0)\n",
    "    y0 = y1\n",
    "    if (y0 == last_y):\n",
    "        run = False"
   ]
  },
  {
   "cell_type": "code",
   "execution_count": 9,
   "metadata": {},
   "outputs": [
    {
     "data": {
      "text/plain": [
       "Decimal('1.414213562373095048801688724209698078569671875376948073176679737990732478462107038850387534327641572')"
      ]
     },
     "execution_count": 9,
     "metadata": {},
     "output_type": "execute_result"
    }
   ],
   "source": [
    "y0"
   ]
  },
  {
   "cell_type": "code",
   "execution_count": null,
   "metadata": {},
   "outputs": [],
   "source": []
  },
  {
   "cell_type": "markdown",
   "metadata": {},
   "source": [
    "## Method\n",
    "\n",
    "This is using the [Newton-Raphson](https://en.wikipedia.org/wiki/Newton%27s_method) approach to perform a numerical calculation. Although in the method implemented above, we do not have a function that we are trying to find the minimum of, the same principals apply.\n",
    "\n",
    "If $x$ is the number we want to find the square root of and $y$ is our prediction, we assume that $y \\le \\sqrt{x} \\le \\frac{x}{y}$. $\\therefore$ we take the average of the two values, $y$ and $\\frac{x}{y}$, this will give us a new estimate $y_1$ for the $\\sqrt(x)$. After doing this process, $y_1$ and $\\frac{x}{y_1}$ are now closer to the actual value of $\\sqrt{x}$. Repeat this method until our prediction $y_n$ doesn't change, once this happens we assume we have found the solution and stop."
   ]
  }
 ],
 "metadata": {
  "kernelspec": {
   "display_name": "Python 3",
   "language": "python",
   "name": "python3"
  },
  "language_info": {
   "codemirror_mode": {
    "name": "ipython",
    "version": 3
   },
   "file_extension": ".py",
   "mimetype": "text/x-python",
   "name": "python",
   "nbconvert_exporter": "python",
   "pygments_lexer": "ipython3",
   "version": "3.8.3"
  }
 },
 "nbformat": 4,
 "nbformat_minor": 2
}
