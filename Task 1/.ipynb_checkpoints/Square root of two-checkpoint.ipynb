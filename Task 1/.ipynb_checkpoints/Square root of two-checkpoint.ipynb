{
 "cells": [
  {
   "cell_type": "markdown",
   "metadata": {},
   "source": [
    "# Square Root of 2\n"
   ]
  },
  {
   "cell_type": "code",
   "execution_count": 289,
   "metadata": {},
   "outputs": [],
   "source": [
    "import numpy as np\n",
    "\n",
    "def sqrt(val, decimals):\n",
    "    '''\n",
    "    algorithm found: https://en.wikipedia.org/wiki/Methods_of_computing_square_roots#Digit-by-digit_calculation\n",
    "    '''\n",
    "    p = 0 # value of the root we have\n",
    "    c = val # Cannot be less than C\n",
    "    \n",
    "    digits = [] #Digits List\n",
    "    \n",
    "    for _ in range(decimals):\n",
    "        x = 9\n",
    "        while x * (20*p + x) > c:  \n",
    "        # subtract x until criteria is met\n",
    "        # this is the largest possible value of x that\n",
    "        # goes into our 'remainder' c\n",
    "            x -= 1\n",
    "        \n",
    "        digits.append(x)      \n",
    "        y = x * (20*p + x)\n",
    "        \n",
    "        # creating a new starting point\n",
    "        # for the algorithm\n",
    "        # ignoring decimals\n",
    "        p = (10 * p) + x\n",
    "        # new 'remainder' to work with\n",
    "        # this is slightly different to the\n",
    "        # algorithm found\n",
    "        # we multiply by 100 here due to us looking\n",
    "        # further down the decimal numbers in the list\n",
    "        c = 100*(c - y)\n",
    "    \n",
    "    return(digits)"
   ]
  },
  {
   "cell_type": "code",
   "execution_count": 297,
   "metadata": {},
   "outputs": [
    {
     "data": {
      "text/plain": [
       "'1.4142135623730950488016887242096980785696718753769480731766797379907324784621070388503875343276415727'"
      ]
     },
     "execution_count": 297,
     "metadata": {},
     "output_type": "execute_result"
    }
   ],
   "source": [
    "digits = sqrt(2, 101)\n",
    "digits_text = digits[:1] + [\".\"] + digits[1:]\n",
    "digits_text = list(map(str, digits_text))\n",
    "digits_text = \"\".join(digits_text)\n",
    "digits_text"
   ]
  },
  {
   "cell_type": "code",
   "execution_count": null,
   "metadata": {},
   "outputs": [],
   "source": []
  }
 ],
 "metadata": {
  "kernelspec": {
   "display_name": "Python 3",
   "language": "python",
   "name": "python3"
  },
  "language_info": {
   "codemirror_mode": {
    "name": "ipython",
    "version": 3
   },
   "file_extension": ".py",
   "mimetype": "text/x-python",
   "name": "python",
   "nbconvert_exporter": "python",
   "pygments_lexer": "ipython3",
   "version": "3.8.3"
  }
 },
 "nbformat": 4,
 "nbformat_minor": 2
}
