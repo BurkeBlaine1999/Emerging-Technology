{
 "cells": [
  {
   "cell_type": "markdown",
   "metadata": {},
   "source": [
    "# Square Root of 2\n",
    "\n",
    "I used the Digit-by-digit calculation in order to help calculate the square root of two accuratly to 100 decimal places.\n",
    "This algorithm can be found here https://en.wikipedia.org/wiki/Methods_of_computing_square_roots#Digit-by-digit_calculation\n",
    "\n",
    "\n",
    "My code works by using a for loop with a while loop inside. \n",
    "The for loop will run 101 times due to the decimal point counting as a character.\n",
    "\n",
    "We start by setting the maxConstraint equal to 9 as the values can only be elements of natural numbers from values of 0 to 9.\n",
    "The while loop calculates the nearest possible number to the value of c.\n",
    "For example at the beginning C is equal to 2. \n",
    "The algorithm \"maxConstraint * (20*root + maxConstraint) > c\"  runs , taking -1 off maxConstraint everytime until it is equal to 1 in this case.\n",
    "This is because \" 1((20)(0) + 1) > c\" is true and is the closest possible number to c.\n",
    "This then adds the max constraint to the digits list.\n",
    "\n",
    "I then set y equal to \"maxConstraint * (20*root + maxConstraint)\" as it returns the largest number that can be created that is less than c. We will later use y to calculate the remainder.\n",
    "\n",
    "On line 24 , root is set to the value of \"(10*root) + maxConstraint\". Here we are ensuring that the number we are dealing with is always an integer, such to avoid python's float precision limitations.\n",
    "\n",
    "I then set c equal to \"100*(c-y)\" as it gives us back the new remainder which will be fed back through the while loop.\n",
    "Due to the square root of 2 being irrational there will be infinite remainders.\n",
    "\n",
    "The code will continue this cycle until the for loop breaks at 100 decimal places.\n",
    "I then insert the decimal place in the 1st position of the list 'digits' and convert digits to a string to be joined together.\n",
    "\n",
    "\n"
   ]
  },
  {
   "cell_type": "code",
   "execution_count": 28,
   "metadata": {},
   "outputs": [],
   "source": [
    "def sqrt(val, decimals):\n",
    "\n",
    "    root = 0 # value of the root we have\n",
    "    c = val # Cannot be less than C\n",
    "    \n",
    "    digits = [] #Digits List\n",
    "    \n",
    "    for _ in range(decimals):\n",
    "        maxConstraint = 9\n",
    "        while maxConstraint * (20*root + maxConstraint) > c:  \n",
    "        #This works by getting the nearest possible\n",
    "        #square root that goes into our 'remainder' c.\n",
    "      \n",
    "            maxConstraint -= 1\n",
    "        \n",
    "        #Add x to the List\n",
    "        digits.append(maxConstraint)        \n",
    "        \n",
    "        #Get the largest possible number \n",
    "        #that is less than the root\n",
    "        y = maxConstraint * (20*root + maxConstraint)             \n",
    "       \n",
    "        # creating a new starting point\n",
    "        # for the algorithm\n",
    "        # ignoring decimals     \n",
    "        root = (10 * root) + maxConstraint \n",
    "        \n",
    "        # new 'remainder' to work with\n",
    "        # this is slightly different to the\n",
    "        # algorithm found\n",
    "        # we multiply by 100 here due to us looking\n",
    "        # further down the decimal numbers in the list\n",
    "        c = 100*(c - y)\n",
    "    \n",
    "    digits_text = digits[:1] + [\".\"] + digits[1:]\n",
    "    #Add a decimal point in position 1 of the digits array\n",
    "    digits_text = list(map(str, digits_text))\n",
    "    digits_text = \"\".join(digits_text)\n",
    "    \n",
    "    return(digits_text)"
   ]
  },
  {
   "cell_type": "code",
   "execution_count": 27,
   "metadata": {},
   "outputs": [
    {
     "data": {
      "text/plain": [
       "'1.4142135623730950488016887242096980785696718753769480731766797379907324784621070388503875343276415727'"
      ]
     },
     "execution_count": 27,
     "metadata": {},
     "output_type": "execute_result"
    }
   ],
   "source": [
    "sqrt(2, 101) # The decimal value is at 101 as the '.' counts as a character"
   ]
  },
  {
   "cell_type": "code",
   "execution_count": null,
   "metadata": {},
   "outputs": [],
   "source": []
  }
 ],
 "metadata": {
  "kernelspec": {
   "display_name": "Python 3",
   "language": "python",
   "name": "python3"
  },
  "language_info": {
   "codemirror_mode": {
    "name": "ipython",
    "version": 3
   },
   "file_extension": ".py",
   "mimetype": "text/x-python",
   "name": "python",
   "nbconvert_exporter": "python",
   "pygments_lexer": "ipython3",
   "version": "3.8.3"
  }
 },
 "nbformat": 4,
 "nbformat_minor": 2
}
