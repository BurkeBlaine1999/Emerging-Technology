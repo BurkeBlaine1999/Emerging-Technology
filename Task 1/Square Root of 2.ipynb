{
 "cells": [
  {
   "cell_type": "markdown",
   "metadata": {},
   "source": [
    "# Task - Square root of 2\n",
    "* Write a Python function called sqrt2 that calculates and prints to the screen the square root of 2 to 100 decimal places.   Your code should not depend on any module from the standard library or otherwise *"
   ]
  },
  {
   "cell_type": "code",
   "execution_count": 34,
   "metadata": {},
   "outputs": [
    {
     "name": "stdout",
     "output_type": "stream",
     "text": [
      "1.4142135623730951454746218587388284504413604736328125000000000000000000000000000000000000000000000000\n"
     ]
    }
   ],
   "source": [
    "#Declare Variables\n",
    "num1 = 2.0\n",
    "num2 = 4.0\n",
    "\n",
    "'''\n",
    "Choose one of the two nearest perfect square numbers it lies between.\n",
    "So in this case they are 1 and 4.\n",
    "'''\n",
    "\n",
    "for i in range(100): # The more iterations the more accurate it becomes\n",
    "\n",
    "    result = num1 / num2\n",
    "    average=(result + num2)/2\n",
    "    num2 = average\n",
    "\n",
    "print(format(result, \".100f\"))"
   ]
  },
  {
   "cell_type": "code",
   "execution_count": null,
   "metadata": {},
   "outputs": [],
   "source": []
  }
 ],
 "metadata": {
  "kernelspec": {
   "display_name": "Python 3",
   "language": "python",
   "name": "python3"
  },
  "language_info": {
   "codemirror_mode": {
    "name": "ipython",
    "version": 3
   },
   "file_extension": ".py",
   "mimetype": "text/x-python",
   "name": "python",
   "nbconvert_exporter": "python",
   "pygments_lexer": "ipython3",
   "version": "3.8.3"
  }
 },
 "nbformat": 4,
 "nbformat_minor": 4
}
