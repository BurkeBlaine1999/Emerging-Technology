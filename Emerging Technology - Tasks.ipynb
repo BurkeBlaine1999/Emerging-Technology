{
 "cells": [
  {
   "cell_type": "markdown",
   "metadata": {},
   "source": [
    "# Task 1 -- Square Root of 2\n",
    "\n",
    "I used the Digit-by-digit calculation in order to help calculate the square root of two accuratly to 100 decimal places.\n",
    "This algorithm can be found here https://en.wikipedia.org/wiki/Methods_of_computing_square_roots#Digit-by-digit_calculation\n",
    "\n",
    "\n",
    "My code works by using a for loop with a while loop inside. \n",
    "The for loop will run 101 times due to the decimal point counting as a character.\n",
    "\n",
    "We start by setting the maxConstraint equal to 9 as the values can only be elements of natural numbers from values of 0 to 9.\n",
    "The while loop calculates the nearest possible number to the value of c.\n",
    "For example at the beginning C is equal to 2. \n",
    "The algorithm \"maxConstraint * (20*root + maxConstraint) > c\"  runs , taking -1 off maxConstraint everytime until it is equal to 1 in this case.\n",
    "This is because \" 1((20)(0) + 1) > c\" is true and is the closest possible number to c.\n",
    "This then adds the max constraint to the digits list.\n",
    "\n",
    "I then set y equal to \"maxConstraint * (20*root + maxConstraint)\" as it returns the largest number that can be created that is less than c. We will later use y to calculate the remainder.\n",
    "\n",
    "On line 24 , root is set to the value of \"(10*root) + maxConstraint\". Here we are ensuring that the number we are dealing with is always an integer, such to avoid python's float precision limitations.\n",
    "\n",
    "I then set c equal to \"100*(c-y)\" as it gives us back the new remainder which will be fed back through the while loop.\n",
    "Due to the square root of 2 being irrational there will be infinite remainders.\n",
    "\n",
    "The code will continue this cycle until the for loop breaks at 100 decimal places.\n",
    "I then insert the decimal place in the 1st position of the list 'digits' and convert digits to a string to be joined together.\n",
    "\n",
    "\n"
   ]
  },
  {
   "cell_type": "code",
   "execution_count": 8,
   "metadata": {},
   "outputs": [],
   "source": [
    "def sqrt(val, decimals):\n",
    "\n",
    "    root = 0 # value of the root we have\n",
    "    c = val # Cannot be less than C\n",
    "    \n",
    "    digits = [] #Digits List\n",
    "    \n",
    "    for _ in range(decimals):\n",
    "        maxConstraint = 9\n",
    "        while maxConstraint * (20*root + maxConstraint) > c:  \n",
    "        #This works by getting the nearest possible\n",
    "        #square root that goes into our 'remainder' c.\n",
    "      \n",
    "            maxConstraint -= 1\n",
    "        \n",
    "        #Add x to the List\n",
    "        digits.append(maxConstraint)        \n",
    "        \n",
    "        #Get the largest possible number \n",
    "        #that is less than the root\n",
    "        y = maxConstraint * (20*root + maxConstraint)             \n",
    "       \n",
    "        # creating a new starting point\n",
    "        # for the algorithm\n",
    "        # ignoring decimals     \n",
    "        root = (10 * root) + maxConstraint \n",
    "        \n",
    "        # new 'remainder' to work with\n",
    "        # this is slightly different to the\n",
    "        # algorithm found\n",
    "        # we multiply by 100 here due to us looking\n",
    "        # further down the decimal numbers in the list\n",
    "        c = 100*(c - y)\n",
    "    \n",
    "    digits_text = digits[:1] + [\".\"] + digits[1:]\n",
    "    #Add a decimal point in position 1 of the digits array\n",
    "    digits_text = list(map(str, digits_text))\n",
    "    digits_text = \"\".join(digits_text)\n",
    "    \n",
    "    return(digits_text)"
   ]
  },
  {
   "cell_type": "code",
   "execution_count": 9,
   "metadata": {},
   "outputs": [
    {
     "data": {
      "text/plain": [
       "'1.4142135623730950488016887242096980785696718753769480731766797379907324784621070388503875343276415727'"
      ]
     },
     "execution_count": 9,
     "metadata": {},
     "output_type": "execute_result"
    }
   ],
   "source": [
    "sqrt(2, 101) # The decimal value is at 101 as the '.' counts as a character"
   ]
  },
  {
   "cell_type": "markdown",
   "metadata": {},
   "source": [
    "<hr>"
   ]
  },
  {
   "cell_type": "markdown",
   "metadata": {},
   "source": [
    "# Task 2 -- Chi² testing\n",
    "\n",
    "\n",
    "\n",
    "### Initial Test\n",
    "In the initial test we see that the p-value is 0.0004. From this we can reject the null hypothesis and accept that at least one of our samples is not independent due to the p-value being less than 0.05.\n",
    "\n",
    "### A & B\n",
    "When having just A & B together we receieve a p-value of 0.002. This means that the null hypothesis is  rejected and A & B are not independent of eachother.\n",
    "\n",
    "### A & C and B & C\n",
    "When having just A & C together we receieve a p-value of 0.307. This means that the null hypothesis is not  rejected and A & B are independent of eachother.\n",
    "\n",
    "This is the same when using B & C. The p-value is 0.0792 meaning the null hypothesis is not  rejected and B & C are independent of eachother.\n",
    "\n",
    "### C & D\n",
    "When having just C & D together we receieve a p-value of 0.0164. This means that the null hypothesis is  rejected and C & D are not independent of eachother.\n",
    "\n",
    "### (A+B) & (C+D)\n",
    "For my final test I added A + B and C + D. My p-value was 0.118  meaning the null hypothesis is not rejected and that A & B are not independent of each other ,similarly for C & D.\n",
    "\n",
    "The new sample of (A+B) is independent of our other new sample (C+D) which confirmed the hypothesis above that A and B are of the same population but different to C and D. And vice versa\n",
    "\n",
    "### Conculsion\n",
    "From the above we can reasonably conclude that A & B are sampled from the same population, similarly for C & D.\n"
   ]
  },
  {
   "cell_type": "code",
   "execution_count": 10,
   "metadata": {},
   "outputs": [
    {
     "name": "stdout",
     "output_type": "stream",
     "text": [
      "24.6\n",
      "0.0004098425861096696\n"
     ]
    }
   ],
   "source": [
    "#Initial Test\n",
    "\n",
    "from scipy.stats import chi2_contingency\n",
    "import numpy as np\n",
    "\n",
    "obs = np.array([[90,60,104,95],\n",
    "                [30,50,51,20 ],\n",
    "                [30,40,45,35 ]])\n",
    "\n",
    "g, p, degreeOfFreedom, expected  = chi2_contingency(obs)\n",
    "\n",
    "# The null hypothesis is that all of the events are independent.\n",
    "# Thus the alternate hypothesis is that at least 1 is not independent.\n",
    "\n",
    "# We recieve a p-value of less than 0.05.\n",
    "# Thus we can conclude that there is enough evidence to reject the null hypothesis \n",
    "# and assume that at least 1 of the events is not independent from the others.\n",
    "\n",
    "print(\"{:.1f}\".format(g)) \n",
    "print(p) \n",
    "#lower the p , the higher the confidence"
   ]
  },
  {
   "cell_type": "code",
   "execution_count": 11,
   "metadata": {},
   "outputs": [
    {
     "name": "stdout",
     "output_type": "stream",
     "text": [
      "12.4\n",
      "0.002000644872215657\n"
     ]
    }
   ],
   "source": [
    "# A & B\n",
    "\n",
    "from scipy.stats import chi2_contingency\n",
    "import numpy as np\n",
    "\n",
    "obs = np.array([[90,60],\n",
    "                [30,50],\n",
    "                [30,40]])\n",
    "\n",
    "g, p, degreeOfFreedom, expected  = chi2_contingency(obs)\n",
    "\n",
    "#NOT INDEPENDENT - rejects a&b\n",
    "\n",
    "print(\"{:.1f}\".format(g))\n",
    "print(p) "
   ]
  },
  {
   "cell_type": "code",
   "execution_count": 12,
   "metadata": {},
   "outputs": [
    {
     "name": "stdout",
     "output_type": "stream",
     "text": [
      "2.4\n",
      "0.3072693526050842\n"
     ]
    }
   ],
   "source": [
    "# A & C\n",
    "\n",
    "from scipy.stats import chi2_contingency\n",
    "import numpy as np\n",
    "\n",
    "obs = np.array([[90,104],\n",
    "                [30,51 ],\n",
    "                [30,45 ]])\n",
    "\n",
    "g, p, degreeOfFreedom, expected  = chi2_contingency(obs)\n",
    "\n",
    "# No evidence to reject null hypo , so we must accept \n",
    "#A & C are independent of eachother.\n",
    "\n",
    "print(\"{:.1f}\".format(g))\n",
    "print(p)"
   ]
  },
  {
   "cell_type": "code",
   "execution_count": 13,
   "metadata": {},
   "outputs": [
    {
     "name": "stdout",
     "output_type": "stream",
     "text": [
      "5.1\n",
      "0.0792815886956327\n"
     ]
    }
   ],
   "source": [
    "# B & C\n",
    "\n",
    "from scipy.stats import chi2_contingency\n",
    "import numpy as np\n",
    "\n",
    "obs = np.array([[60,104],\n",
    "                [50,51 ],\n",
    "                [40,45]])\n",
    "\n",
    "#Although a small p value as it is not less than 0.05 \n",
    "#We still dont have enough evidence to reject\n",
    "\n",
    "#No evidence to reject null hypothesis , so we must accept. \n",
    "#B & C are independent of eachother.\n",
    "\n",
    "g, p, degreeOfFreedom, expected  = chi2_contingency(obs)\n",
    "\n",
    "\n",
    "print(\"{:.1f}\".format(g))\n",
    "print(p)"
   ]
  },
  {
   "cell_type": "code",
   "execution_count": 14,
   "metadata": {},
   "outputs": [
    {
     "name": "stdout",
     "output_type": "stream",
     "text": [
      "8.2\n",
      "0.016431707024441123\n"
     ]
    }
   ],
   "source": [
    "# C & D\n",
    "\n",
    "from scipy.stats import chi2_contingency\n",
    "import numpy as np\n",
    "\n",
    "obs = np.array([[104,95],\n",
    "                [51 ,20],\n",
    "                [45 ,35]])\n",
    "\n",
    "g, p, degreeOfFreedom, expected  = chi2_contingency(obs)\n",
    "\n",
    "#C & D - p value less that 0.05 , enough evidence to reject null hypothesis.\n",
    "#We can assume C & D are not independent.\n",
    "\n",
    "print(\"{:.1f}\".format(g))\n",
    "print(p)"
   ]
  },
  {
   "cell_type": "code",
   "execution_count": 15,
   "metadata": {},
   "outputs": [
    {
     "name": "stdout",
     "output_type": "stream",
     "text": [
      "4.3\n",
      "0.11872975696950533\n"
     ]
    }
   ],
   "source": [
    "# (A & B),(C & D)\n",
    "\n",
    "from scipy.stats import chi2_contingency\n",
    "import numpy as np\n",
    "\n",
    "obs = np.array([[90 + 60,104+95],\n",
    "                [30 + 50,51+20 ],\n",
    "                [30 + 40,45+35 ]])\n",
    "\n",
    "g, p, degreeOfFreedom, expected  = chi2_contingency(obs)\n",
    "\n",
    "#From our experimentation we have justification via p-values to conclude that a & b\n",
    "#were sampled from the same population and that c & d were sampled from the sample population. \n",
    "#However the populations that a&b and c & d were pulled from are independednt of eachother,\n",
    "#hence once we combine a & b and combine c & d we now have 2 independent samples\n",
    "#as is proven by the chi2 test ran on the 2 samples\n",
    "\n",
    "print(\"{:.1f}\".format(g)) \n",
    "print(p) "
   ]
  },
  {
   "cell_type": "markdown",
   "metadata": {},
   "source": [
    "<hr>"
   ]
  },
  {
   "cell_type": "markdown",
   "metadata": {},
   "source": [
    "# Task 3 -- Standard Deviation\n",
    "STDEV. S assumes that its arguments are a sample of the population. \n",
    "If your data represents the entire population, then you would compute the standard deviation using STDEV. P.\n",
    "\n",
    "The calculation for the standard deviation of the population is \n",
    "**np.sqrt(np.sum((x - np.mean(x))**2)/len(x)) .\n",
    "\n",
    "The calculation for the standard deviation of a sample is \n",
    "**np.sqrt(np.sum((x - np.mean(x))**2)/(len(x)-1)) .\n",
    "\n",
    "They are simlar but the sample removes -1 from the length of x.\n",
    "\n",
    "This is as it is using Bessels Correction which uses n-1 instead of n.\n",
    "This method corrects the bias in the estimation of the population variance and partially corrects the bias in the estimation of the populations standard deviation.\n",
    "However, the correction often increases the mean squared error in these estimations.\n",
    "\n",
    "Using n-1 also allows for a larger standard deviation which accounts for not analysing the entire population.\n",
    "\n",
    "It accounts for fact that we dont know the populations true standard deviation.\n",
    "Therefore dividing by the total number of samples would give us the standard deviation of the sample.\n",
    "\n",
    "However, we have no way of knowing if this standard deviation is the standard deviation of the population therefore dividing by n-1 allows for a larger estimate of the population which lets us correct the bias of the original calculation.\n",
    "\n",
    "### References \n",
    "\n",
    "Bessel's correction\n",
    "https://en.wikipedia.org/wiki/Bessel%27s_correction\n",
    "\n",
    "\n",
    "\n"
   ]
  },
  {
   "cell_type": "code",
   "execution_count": 16,
   "metadata": {},
   "outputs": [
    {
     "name": "stdout",
     "output_type": "stream",
     "text": [
      "2.8722813232690143\n"
     ]
    },
    {
     "data": {
      "text/plain": [
       "8.65544144839919"
      ]
     },
     "execution_count": 16,
     "metadata": {},
     "output_type": "execute_result"
    }
   ],
   "source": [
    "import numpy as np\n",
    "\n",
    "#STDDEV.P\n",
    "\n",
    "\n",
    "x = [1,2,3,4,5,6,7,8,9,10]\n",
    "\n",
    "print(np.sqrt(np.sum((x - np.mean(x))**2)/len(x)))\n",
    "\n",
    "x = [1,2,3,4,5,6,7,8,9,10,11,12,13,14,15,16,17,18,19,20,21,22,23,24,25,26,27,28,29,30]\n",
    "\n",
    "np.sqrt(np.sum((x - np.mean(x))**2)/len(x))"
   ]
  },
  {
   "cell_type": "code",
   "execution_count": 17,
   "metadata": {
    "scrolled": true
   },
   "outputs": [
    {
     "name": "stdout",
     "output_type": "stream",
     "text": [
      "3.0276503540974917\n"
     ]
    },
    {
     "data": {
      "text/plain": [
       "8.597480251019288"
      ]
     },
     "execution_count": 17,
     "metadata": {},
     "output_type": "execute_result"
    }
   ],
   "source": [
    "import numpy as np\n",
    "\n",
    "#STDDEV.S\n",
    "\n",
    "x = [1,2,3,4,5,6,7,8,9,10]\n",
    "\n",
    "print(np.sqrt(np.sum((x - np.mean(x))**2)/(len(x)-1)))\n",
    "\n",
    "x = [1,2,3,4,5,6,7,8,9,10,11,12,13,14,15,16,17,18,19,20,21,22,23,24,25,26,27,28,29,30]\n",
    "\n",
    "np.sqrt(np.sum((x - np.mean(x))**2)/len(x)-1)"
   ]
  },
  {
   "cell_type": "markdown",
   "metadata": {},
   "source": [
    "# Task 4 -- Fisher’s Iris data set"
   ]
  },
  {
   "cell_type": "code",
   "execution_count": 10,
   "metadata": {},
   "outputs": [
    {
     "data": {
      "text/plain": [
       "Text(0, 0.5, 'Petal Width')"
      ]
     },
     "execution_count": 10,
     "metadata": {},
     "output_type": "execute_result"
    },
    {
     "data": {
      "image/png": "[encoded data removed]",
      "text/plain": [
       "<Figure size 432x288 with 1 Axes>"
      ]
     },
     "metadata": {
      "needs_background": "light"
     },
     "output_type": "display_data"
    }
   ],
   "source": [
    "from sklearn.datasets import load_iris\n",
    "from sklearn.cluster import KMeans\n",
    "import matplotlib.pyplot as plthttp://localhost:8888/notebooks/Emerging%20Technology%20-%20Tasks.ipynb#Task-4----Fisher%E2%80%99s-Iris-data-set\n",
    "import matplotlib.patches as mpatches\n",
    "import numpy as np\n",
    "\n",
    "#Load in the Iris data set\n",
    "iris = load_iris()\n",
    "\n",
    "#Specify the number of clusters to 3\n",
    "# as there are 3 flower categories\n",
    "kmeans = KMeans(n_clusters=3)\n",
    "\n",
    "#This trains our machine learning with the data\n",
    "KMmodel = kmeans.fit(iris.data)\n",
    "\n",
    "#This predicteds the category of our data  \n",
    "categories = KMmodel.labels_  \n",
    "\n",
    "#Get the average of each cluster\n",
    "KMmodel.cluster_centers_\n",
    "\n",
    "#Set X equal to the array of data\n",
    "X = np.array(iris.data)\n",
    "\n",
    "# Plot the data set.\n",
    "plt.scatter(X[:, 0], X[:, 1], s=20, c=categories)\n",
    "#Plot the center point of all the different clusters.\n",
    "plt.scatter(KMmodel.cluster_centers_[:, 0], KMmodel.cluster_centers_[:, 1], s=100, color = 'g')\n",
    "\n",
    "# Set reasonable limits.\n",
    "plt.xlim(4,8)\n",
    "plt.ylim(1.5,4.5)\n",
    "\n",
    "#Add Titles & Labels\n",
    "plt.title('The Iris Data set \\n')\n",
    "plt.xlabel('Sepal Length')\n",
    "plt.ylabel('Sepal Width')\n",
    "\n",
    "#plt.legend()"
   ]
  },
  {
   "cell_type": "code",
   "execution_count": null,
   "metadata": {},
   "outputs": [],
   "source": []
  }
 ],
 "metadata": {
  "kernelspec": {
   "display_name": "Python 3",
   "language": "python",
   "name": "python3"
  },
  "language_info": {
   "codemirror_mode": {
    "name": "ipython",
    "version": 3
   },
   "file_extension": ".py",
   "mimetype": "text/x-python",
   "name": "python",
   "nbconvert_exporter": "python",
   "pygments_lexer": "ipython3",
   "version": "3.8.5"
  }
 },
 "nbformat": 4,
 "nbformat_minor": 4
}
